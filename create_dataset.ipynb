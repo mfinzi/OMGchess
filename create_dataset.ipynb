{
 "cells": [
  {
   "cell_type": "code",
   "execution_count": 1,
   "metadata": {},
   "outputs": [],
   "source": [
    "import chess\n",
    "import chess.uci\n",
    "import chess.pgn\n",
    "import sys\n",
    "import numpy as np\n",
    "import torch\n",
    "import io\n",
    "import pandas as pd\n",
    "import concurrent\n",
    "import dill\n",
    "from extract_stockfish_label import *"
   ]
  },
  {
   "cell_type": "code",
   "execution_count": null,
   "metadata": {},
   "outputs": [],
   "source": []
  },
  {
   "cell_type": "code",
   "execution_count": 2,
   "metadata": {},
   "outputs": [],
   "source": [
    "def create_labeled_dataset(pgnlist,num_workers=4):\n",
    "    num_elems = len(pgnlist)\n",
    "    ratio = num_elems//num_workers\n",
    "    results = []\n",
    "    with concurrent.futures.ThreadPoolExecutor(num_workers) as executor:\n",
    "        ftrs = [executor.submit(flatLabeler(),pgnlist[i*ratio:(i+1)*ratio]) for i in range(num_workers)]\n",
    "        for future in concurrent.futures.as_completed(ftrs):\n",
    "            results+=future.result()\n",
    "    return results"
   ]
  },
  {
   "cell_type": "code",
   "execution_count": 3,
   "metadata": {},
   "outputs": [
    {
     "name": "stderr",
     "output_type": "stream",
     "text": [
      "/home/marc/anaconda3/lib/python3.6/site-packages/ipykernel_launcher.py:7: ParserWarning: Falling back to the 'python' engine because the 'c' engine does not support regex separators (separators > 1 char and different from '\\s+' are interpreted as regex); you can avoid this warning by specifying engine='python'.\n",
      "  import sys\n"
     ]
    }
   ],
   "source": [
    "N = 400\n",
    "games=pd.read_table('all_with_filtered_anotations_since1998.txt',\n",
    "                sep='### ',\n",
    "                skiprows=[0,1,2,3,4],\n",
    "                names=['garbage','game'],\n",
    "                na_values='None',\n",
    "                nrows=N,\n",
    "                )['game']\n",
    "annotations=pd.read_table('all_with_filtered_anotations_since1998.txt',\n",
    "                sep=' ',usecols = np.arange(16),engine='c',\n",
    "               skiprows=[0,1,2,3,4],\n",
    "                names=['t','date','result','welo','belo','len',\n",
    "                       'date_c','resu_c','welo_c','belo_c','edate_c','setup','fen','resu2_c','oyrange','bad_len'],\n",
    "                na_values='None',\n",
    "                nrows=N,\n",
    "               )\n",
    "def str2bool(k):\n",
    "    if k=='true': return True\n",
    "    if k=='false': return False\n",
    "    return k\n",
    "annotations = annotations.apply(lambda st: pd.Series(str2bool(s.split('_')[-1]) if isinstance(s,str) else s for s in st ),axis=0)"
   ]
  },
  {
   "cell_type": "code",
   "execution_count": 24,
   "metadata": {},
   "outputs": [],
   "source": [
    "df = pd.concat([annotations, games], axis=1, sort=False)\n",
    "df = df[(df['setup'].values!=True)&(df['game'].values!=None)]"
   ]
  },
  {
   "cell_type": "code",
   "execution_count": 27,
   "metadata": {},
   "outputs": [],
   "source": [
    "out = create_labeled_dataset(df['game'],8)\n",
    "with open(\"chess_dataset.pkl\",'wb') as file:\n",
    "    dill.dump(out,file)"
   ]
  },
  {
   "cell_type": "code",
   "execution_count": null,
   "metadata": {},
   "outputs": [],
   "source": []
  },
  {
   "cell_type": "code",
   "execution_count": null,
   "metadata": {},
   "outputs": [],
   "source": []
  }
 ],
 "metadata": {
  "kernelspec": {
   "display_name": "Python 3",
   "language": "python",
   "name": "python3"
  },
  "language_info": {
   "codemirror_mode": {
    "name": "ipython",
    "version": 3
   },
   "file_extension": ".py",
   "mimetype": "text/x-python",
   "name": "python",
   "nbconvert_exporter": "python",
   "pygments_lexer": "ipython3",
   "version": "3.6.7"
  }
 },
 "nbformat": 4,
 "nbformat_minor": 2
}
