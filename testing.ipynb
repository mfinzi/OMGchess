{
 "cells": [
  {
   "cell_type": "code",
   "execution_count": 1,
   "metadata": {},
   "outputs": [],
   "source": [
    "import numpy as np\n",
    "import sys,os\n",
    "sys.path.append(os.path.expanduser(\"~/games\"))\n",
    "from connect4 import Connect4Game,Connect4Board\n",
    "from mcts import Node,MCTS\n",
    "#%matplotlib inline\n",
    "%load_ext line_profiler\n",
    "%load_ext memory_profiler"
   ]
  },
  {
   "cell_type": "code",
   "execution_count": 2,
   "metadata": {},
   "outputs": [
    {
     "name": "stdout",
     "output_type": "stream",
     "text": [
      "117937\n"
     ]
    }
   ],
   "source": [
    "M = MCTS(Connect4Board);M.compute_move(10);print(M.searchTree.num_visits)"
   ]
  },
  {
   "cell_type": "code",
   "execution_count": 7,
   "metadata": {},
   "outputs": [
    {
     "data": {
      "text/plain": [
       "Timer unit: 1e-06 s\n",
       "\n",
       "Total time: 0.579471 s\n",
       "File: /home/marc/games/mcts.py\n",
       "Function: update_path at line 67\n",
       "\n",
       "Line #      Hits         Time  Per Hit   % Time  Line Contents\n",
       "==============================================================\n",
       "    67                                               def update_path(self,board):\n",
       "    68     39156      47322.0      1.2      8.2          color = board.color_to_move()\n",
       "    69                                                   \n",
       "    70                                                   # leaf node, either terminal or unvisited\n",
       "    71     39156      20455.0      0.5      3.5          if len(self.children)==0:\n",
       "    72      6989      25289.0      3.6      4.4              terminal_outcome = self.terminal_outcome(board)\n",
       "    73      6989       2648.0      0.4      0.5              if terminal_outcome is not None: outcome = terminal_outcome\n",
       "    74                                                       else:\n",
       "    75      6989      66141.0      9.5     11.4                  self.children = [Node(k) for k in board.get_moves()]\n",
       "    76      6989      92570.0     13.2     16.0                  self.unvisited = np.random.permutation(len(self.children))\n",
       "    77      6989      62036.0      8.9     10.7                  outcome = self.rollout(board)\n",
       "    78                                                           #Node.num_rollouts +=1\n",
       "    79                                                           #Node.sqrtlog_num_rollouts = Node.temperature*np.sqrt(2*np.log(Node.num_rollouts))\n",
       "    80                                                           \n",
       "    81                                                   # Node has not been fully expanded\n",
       "    82     32167      15696.0      0.5      2.7          elif len(self.unvisited):#np.any(self.unvisited):\n",
       "    83      6988      24732.0      3.5      4.3              child = self.expand_unvisited(board)\n",
       "    84      6988       2836.0      0.4      0.5              outcome = child.update_path(board)\n",
       "    85                                                       \n",
       "    86                                                   # Node has been fully expanded and we use the (ucb) policy    \n",
       "    87                                                   else:\n",
       "    88     25179     115670.0      4.6     20.0              child = self.best_child()\n",
       "    89     25179      36934.0      1.5      6.4              board.make_move(child.move)\n",
       "    90     25179      10536.0      0.4      1.8              outcome = child.update_path(board)\n",
       "    91                                                       \n",
       "    92     39156      44295.0      1.1      7.6          self.update_statistics(color,outcome)\n",
       "    93     39156      12311.0      0.3      2.1          return outcome"
      ]
     },
     "metadata": {},
     "output_type": "display_data"
    }
   ],
   "source": [
    "#%lprun -f MCTS.ponder M = MCTS(Connect4Board); M.compute_move(1)\n",
    "%lprun -f Node.update_path M = MCTS(Connect4Board); M.compute_move(1)"
   ]
  },
  {
   "cell_type": "code",
   "execution_count": 4,
   "metadata": {},
   "outputs": [
    {
     "data": {
      "text/plain": [
       "88"
      ]
     },
     "execution_count": 4,
     "metadata": {},
     "output_type": "execute_result"
    }
   ],
   "source": [
    "sys.getsizeof(Node(0))"
   ]
  },
  {
   "cell_type": "code",
   "execution_count": null,
   "metadata": {},
   "outputs": [],
   "source": [
    "%memit M=MCTS();M.compute_move(1)"
   ]
  },
  {
   "cell_type": "code",
   "execution_count": null,
   "metadata": {},
   "outputs": [],
   "source": [
    "\n",
    "#%lprun -f M.searchTree.ucb M.compute_move(1)"
   ]
  },
  {
   "cell_type": "code",
   "execution_count": null,
   "metadata": {},
   "outputs": [],
   "source": [
    "M = MCTS();M.compute_move(1);print(M.searchTree.num_visits)"
   ]
  },
  {
   "cell_type": "code",
   "execution_count": null,
   "metadata": {},
   "outputs": [],
   "source": [
    "M.compute_move(1)"
   ]
  },
  {
   "cell_type": "code",
   "execution_count": null,
   "metadata": {},
   "outputs": [],
   "source": [
    "Node.num_rollouts"
   ]
  },
  {
   "cell_type": "code",
   "execution_count": null,
   "metadata": {},
   "outputs": [],
   "source": [
    "M = MCTS()\n",
    "for i in range(42):\n",
    "    move = M.compute_move(5)\n",
    "    print([c.win_ratio() for c in M.searchTree.children])\n",
    "    print([c.num_visits for c in M.searchTree.children])\n",
    "    print(M.searchTree.num_visits)\n",
    "    outcome = M.make_move(move)\n",
    "    plt.imshow(M.gameBoard.data(),vmin=-1,vmax=1,interpolation=None)\n",
    "    plt.grid(which='minor', color='k',linestyle='-', linewidth=2)\n",
    "    plt.gca().set_xticks(np.arange(-.5, 7, 1), minor=True);\n",
    "    plt.gca().set_yticks(np.arange(-.5, 6, 1), minor=True);\n",
    "    #plt.minorticks_on()\n",
    "    #plt.gca().grid(which='minor', color='k', linestyle='-', linewidth=2)\n",
    "    plt.show()\n",
    "    if outcome: \n",
    "        print(outcome)\n",
    "        break"
   ]
  },
  {
   "cell_type": "code",
   "execution_count": null,
   "metadata": {},
   "outputs": [],
   "source": [
    "print(M.searchTree.win_ratio())"
   ]
  },
  {
   "cell_type": "code",
   "execution_count": null,
   "metadata": {},
   "outputs": [],
   "source": [
    "Node.reused"
   ]
  },
  {
   "cell_type": "code",
   "execution_count": null,
   "metadata": {},
   "outputs": [],
   "source": [
    "[c.win_ratio() for c in M.searchTree.children]"
   ]
  },
  {
   "cell_type": "code",
   "execution_count": null,
   "metadata": {},
   "outputs": [],
   "source": [
    "[c.num_visits for c in M.searchTree.children[4].children[4].children]"
   ]
  },
  {
   "cell_type": "code",
   "execution_count": null,
   "metadata": {},
   "outputs": [],
   "source": [
    "C.engine.searchTree.num_visits"
   ]
  },
  {
   "cell_type": "code",
   "execution_count": null,
   "metadata": {},
   "outputs": [],
   "source": [
    "C.engine.searchTree.num_visits"
   ]
  },
  {
   "cell_type": "code",
   "execution_count": null,
   "metadata": {},
   "outputs": [],
   "source": []
  },
  {
   "cell_type": "code",
   "execution_count": null,
   "metadata": {},
   "outputs": [],
   "source": [
    "M.compute_move(10)"
   ]
  },
  {
   "cell_type": "code",
   "execution_count": null,
   "metadata": {},
   "outputs": [],
   "source": [
    "[c.num_visits for c in M.searchTree.children[3].children]"
   ]
  },
  {
   "cell_type": "code",
   "execution_count": null,
   "metadata": {},
   "outputs": [],
   "source": [
    "M.searchTree.num_visits"
   ]
  },
  {
   "cell_type": "code",
   "execution_count": null,
   "metadata": {},
   "outputs": [],
   "source": [
    "M.make_move(5)"
   ]
  },
  {
   "cell_type": "code",
   "execution_count": null,
   "metadata": {},
   "outputs": [],
   "source": [
    "M.gameBoard.show()"
   ]
  },
  {
   "cell_type": "code",
   "execution_count": 39,
   "metadata": {},
   "outputs": [
    {
     "data": {
      "text/plain": [
       "12"
      ]
     },
     "execution_count": 39,
     "metadata": {},
     "output_type": "execute_result"
    }
   ],
   "source": [
    "import multiprocessing\n",
    "multiprocessing.cpu_count()"
   ]
  },
  {
   "cell_type": "code",
   "execution_count": 46,
   "metadata": {},
   "outputs": [
    {
     "data": {
      "application/vnd.jupyter.widget-view+json": {
       "model_id": "b9305124c6134f41819c6febb8c8dbaa",
       "version_major": 2,
       "version_minor": 0
      },
      "text/plain": [
       "FigureCanvasNbAgg()"
      ]
     },
     "metadata": {},
     "output_type": "display_data"
    }
   ],
   "source": [
    "C = Connect4Game(True)"
   ]
  },
  {
   "cell_type": "code",
   "execution_count": null,
   "metadata": {},
   "outputs": [],
   "source": [
    "C.engine.searchTree.num_visits"
   ]
  },
  {
   "cell_type": "code",
   "execution_count": null,
   "metadata": {},
   "outputs": [],
   "source": [
    "print([c.num_visits for c in C.engine.searchTree.children])"
   ]
  },
  {
   "cell_type": "code",
   "execution_count": null,
   "metadata": {},
   "outputs": [],
   "source": [
    "print([c.num_wins/c.num_visits for c in C.engine.searchTree.children[0].children])"
   ]
  },
  {
   "cell_type": "code",
   "execution_count": null,
   "metadata": {},
   "outputs": [],
   "source": [
    "C.engine.searchTree.num_wins/C.engine.searchTree.num_visits"
   ]
  },
  {
   "cell_type": "code",
   "execution_count": null,
   "metadata": {},
   "outputs": [],
   "source": [
    "print(C.engine.searchTree.terminal_outcome(C.engine.gameBoard))"
   ]
  },
  {
   "cell_type": "code",
   "execution_count": null,
   "metadata": {},
   "outputs": [],
   "source": [
    "testboard = copy.deepcopy(C.engine.gameBoard)"
   ]
  },
  {
   "cell_type": "code",
   "execution_count": null,
   "metadata": {},
   "outputs": [],
   "source": [
    "testboard.make_move(4)"
   ]
  },
  {
   "cell_type": "code",
   "execution_count": null,
   "metadata": {},
   "outputs": [],
   "source": [
    "testboard.data()"
   ]
  },
  {
   "cell_type": "code",
   "execution_count": null,
   "metadata": {},
   "outputs": [],
   "source": [
    "testboard.move_won(4)"
   ]
  },
  {
   "cell_type": "code",
   "execution_count": null,
   "metadata": {},
   "outputs": [],
   "source": [
    "C.engine.searchTree.children[5].children[4].move"
   ]
  },
  {
   "cell_type": "code",
   "execution_count": null,
   "metadata": {},
   "outputs": [],
   "source": [
    "print(C.engine.searchTree.children[5].children[4].terminal_outcome(testboard))"
   ]
  },
  {
   "cell_type": "code",
   "execution_count": null,
   "metadata": {},
   "outputs": [],
   "source": [
    "print(C.engine.searchTree.children)"
   ]
  },
  {
   "cell_type": "code",
   "execution_count": null,
   "metadata": {},
   "outputs": [],
   "source": [
    "c=1;b=2"
   ]
  },
  {
   "cell_type": "code",
   "execution_count": null,
   "metadata": {},
   "outputs": [],
   "source": [
    "a=c=b"
   ]
  },
  {
   "cell_type": "code",
   "execution_count": null,
   "metadata": {},
   "outputs": [],
   "source": [
    "a"
   ]
  },
  {
   "cell_type": "code",
   "execution_count": null,
   "metadata": {},
   "outputs": [],
   "source": [
    "c"
   ]
  },
  {
   "cell_type": "code",
   "execution_count": null,
   "metadata": {},
   "outputs": [],
   "source": []
  }
 ],
 "metadata": {
  "kernelspec": {
   "display_name": "Python 3",
   "language": "python",
   "name": "python3"
  },
  "language_info": {
   "codemirror_mode": {
    "name": "ipython",
    "version": 3
   },
   "file_extension": ".py",
   "mimetype": "text/x-python",
   "name": "python",
   "nbconvert_exporter": "python",
   "pygments_lexer": "ipython3",
   "version": "3.6.7"
  }
 },
 "nbformat": 4,
 "nbformat_minor": 2
}
