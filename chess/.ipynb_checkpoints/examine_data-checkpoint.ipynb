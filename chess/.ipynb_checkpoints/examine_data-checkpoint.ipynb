{
 "cells": [
  {
   "cell_type": "code",
   "execution_count": 1,
   "metadata": {},
   "outputs": [],
   "source": [
    "import numpy as np\n",
    "import matplotlib.pyplot as plt\n",
    "import torch\n",
    "import pandas as pd\n",
    "import seaborn as sn\n",
    "import chess\n",
    "import chess.uci\n",
    "import chess.pgn\n",
    "import io"
   ]
  },
  {
   "cell_type": "code",
   "execution_count": 2,
   "metadata": {},
   "outputs": [],
   "source": [
    "%load_ext autoreload\n",
    "%autoreload 2"
   ]
  },
  {
   "cell_type": "code",
   "execution_count": 3,
   "metadata": {},
   "outputs": [],
   "source": [
    "X=pd.read_table('all_with_filtered_anotations_since1998.txt',\n",
    "                sep=' ',usecols = np.arange(16),engine='c',\n",
    "               skiprows=[0,1,2,3,4],\n",
    "                names=['t','date','result','welo','belo','len',\n",
    "                       'date_c','resu_c','welo_c','belo_c','edate_c','setup','fen','resu2_c','oyrange','bad_len'],\n",
    "                na_values='None',\n",
    "                nrows=100000,\n",
    "               )"
   ]
  },
  {
   "cell_type": "code",
   "execution_count": 4,
   "metadata": {},
   "outputs": [],
   "source": [
    "def str2bool(k):\n",
    "    if k=='true': return True\n",
    "    if k=='false': return False\n",
    "    return k"
   ]
  },
  {
   "cell_type": "code",
   "execution_count": 5,
   "metadata": {},
   "outputs": [],
   "source": [
    "X = X.apply(lambda st: pd.Series(str2bool(s.split('_')[-1]) if isinstance(s,str) else s for s in st ),axis=0)"
   ]
  },
  {
   "cell_type": "code",
   "execution_count": 6,
   "metadata": {},
   "outputs": [
    {
     "name": "stderr",
     "output_type": "stream",
     "text": [
      "/home/marc/anaconda3/lib/python3.6/site-packages/ipykernel_launcher.py:6: ParserWarning: Falling back to the 'python' engine because the 'c' engine does not support regex separators (separators > 1 char and different from '\\s+' are interpreted as regex); you can avoid this warning by specifying engine='python'.\n",
      "  \n"
     ]
    }
   ],
   "source": [
    "Z=pd.read_table('all_with_filtered_anotations_since1998.txt',\n",
    "                sep='### ',\n",
    "                skiprows=[0,1,2,3,4],\n",
    "                names=['garbage','game'],\n",
    "                na_values='None',\n",
    "                nrows=1000,\n",
    "                )['game']"
   ]
  },
  {
   "cell_type": "code",
   "execution_count": 7,
   "metadata": {},
   "outputs": [
    {
     "data": {
      "text/plain": [
       "'W1.e4 B1.c5 W2.Nf3 B2.Nc6 W3.d4 B3.cxd4 W4.Nxd4 B4.Nf6 W5.Nc3 B5.e5 W6.Ndb5 B6.d6 W7.Bg5 B7.a6 W8.Na3 B8.b5 W9.Bxf6 B9.gxf6 W10.Nd5 B10.f5 W11.c3 B11.Bg7 W12.exf5 B12.Bxf5 W13.Nc2 B13.Be6 W14.a4 B14.O-O W15.axb5 B15.axb5 W16.Rxa8 B16.Qxa8 W17.Nce3 B17.Qb7 W18.g4 B18.Ne7 W19.Bg2 B19.Nxd5 W20.Bxd5 B20.Qe7 W21.h4 B21.Rc8 W22.g5 B22.Rc5 W23.Be4 B23.d5 W24.Nxd5 B24.Bxd5 W25.Bxd5 B25.e4 W26.Ke2 B26.Qe5 W27.Bb3 B27.Qc7 W28.Qg1 B28.b4 W29.g6 B29.hxg6 W30.Qxg6 B30.Kf8 W31.Qg3 B31.Qxg3 W32.fxg3 B32.bxc3 W33.bxc3 B33.Rxc3 W34.Bd5 B34.Rxg3'"
      ]
     },
     "execution_count": 7,
     "metadata": {},
     "output_type": "execute_result"
    }
   ],
   "source": [
    "Z[10]"
   ]
  },
  {
   "cell_type": "code",
   "execution_count": 8,
   "metadata": {},
   "outputs": [
    {
     "data": {
      "text/plain": [
       "<Game at 0x7f30b33f9080 ('?' vs. '?', ????.??.??)>"
      ]
     },
     "execution_count": 8,
     "metadata": {},
     "output_type": "execute_result"
    }
   ],
   "source": [
    "chess.pgn.read_game(io.StringIO(Z[50]))"
   ]
  },
  {
   "cell_type": "code",
   "execution_count": 9,
   "metadata": {},
   "outputs": [],
   "source": [
    "with_elos = X[~X['welo_c']&~X['belo_c']]\n",
    "elos = with_elos['welo']-with_elos['belo']\n"
   ]
  },
  {
   "cell_type": "code",
   "execution_count": 10,
   "metadata": {},
   "outputs": [],
   "source": [
    "def result2score(result_str):\n",
    "    if result_str == '1/2-1/2': return 0\n",
    "    if result_str == '1-0':return 1\n",
    "    if result_str == '0-1':return -1\n",
    "scores = with_elos['result'].apply(result2score)"
   ]
  },
  {
   "cell_type": "code",
   "execution_count": 11,
   "metadata": {},
   "outputs": [],
   "source": [
    "Y = pd.DataFrame({'elo_gap':elos,'scores':scores})"
   ]
  },
  {
   "cell_type": "code",
   "execution_count": 12,
   "metadata": {},
   "outputs": [],
   "source": [
    "#Y = pd.DataFrame(elos[scores==i] for i in [-1,0,1])"
   ]
  },
  {
   "cell_type": "code",
   "execution_count": 13,
   "metadata": {},
   "outputs": [],
   "source": [
    "# rolls_dict = {i:elos[Y['scores']==i] for i in [-1,0,1]}\n",
    "\n",
    "# #You can print the next line to see what rolls_dict is\n",
    "# #print(rolls_dict) \n",
    "\n",
    "# #put the dictionary into a DataFrame\n",
    "# #means = pd.DataFrame(rolls_dict)\n",
    "# #means.plot.hist(stacked=True,bins=20,density=True,kde=True)\n",
    "# for col in [-1,0,1]:\n",
    "#     sn.distplot(rolls_dict[col],kde=True,label=col)\n",
    "# plt.xlim(-100,550)\n",
    "# plt.legend()\n",
    "# #the bar plot takes means as the data, and ci tells it \n",
    "# #what confidence interval to plot with.\n",
    "# #sns.distplot(means) \n",
    "# #sns.set(style=\"whitegrid\")\n",
    "# #plt.ylabel('Proportion of rolls')\n",
    "# #plt.xlabel('Dice outcome')"
   ]
  },
  {
   "cell_type": "code",
   "execution_count": 14,
   "metadata": {},
   "outputs": [],
   "source": [
    "#sn.catplot(x=\"scores\", y=\"elo_gap\", kind=\"swarm\", data=Y);"
   ]
  },
  {
   "cell_type": "code",
   "execution_count": 15,
   "metadata": {},
   "outputs": [
    {
     "data": {
      "text/plain": [
       "<matplotlib.axes._subplots.AxesSubplot at 0x7f30b13de3c8>"
      ]
     },
     "execution_count": 15,
     "metadata": {},
     "output_type": "execute_result"
    },
    {
     "data": {
      "image/png": "[encoded data removed]",
      "text/plain": [
       "<Figure size 432x288 with 1 Axes>"
      ]
     },
     "metadata": {
      "needs_background": "light"
     },
     "output_type": "display_data"
    }
   ],
   "source": [
    "sn.regplot(elos,scores)"
   ]
  },
  {
   "cell_type": "code",
   "execution_count": 16,
   "metadata": {},
   "outputs": [
    {
     "data": {
      "text/plain": [
       "array([0, 0, 1, ..., 0, 0, 0])"
      ]
     },
     "execution_count": 16,
     "metadata": {},
     "output_type": "execute_result"
    }
   ],
   "source": [
    "Y['scores'].values"
   ]
  },
  {
   "cell_type": "code",
   "execution_count": 17,
   "metadata": {},
   "outputs": [
    {
     "data": {
      "text/plain": [
       "array([218., 103., 660., ...,  35., 203.,  84.])"
      ]
     },
     "execution_count": 17,
     "metadata": {},
     "output_type": "execute_result"
    }
   ],
   "source": [
    "Y['elo_gap'].values"
   ]
  },
  {
   "cell_type": "code",
   "execution_count": 73,
   "metadata": {},
   "outputs": [],
   "source": [
    "import torch\n",
    "import torch.nn as nn\n",
    "import numpy as np\n",
    "import torch.utils.data\n",
    "from oil.model_trainers.trainer import Trainer\n",
    "x = torch.from_numpy(Y['elo_gap'].values.astype(np.float32)).unsqueeze(-1)\n",
    "y = torch.from_numpy(Y['scores'].values.astype(np.float32)).unsqueeze(-1)\n",
    "train = torch.utils.data.TensorDataset(x,y)\n",
    "train_loader = torch.utils.data.DataLoader(train, batch_size=64, shuffle=True,drop_last=True)\n",
    "class Regressor(Trainer):\n",
    "    def loss(self, mb):\n",
    "        x,y = mb\n",
    "        return nn.MSELoss()(self.model(x),y)\n",
    "\n",
    "\n",
    "l_rate = 0.001\n",
    "\n",
    "model = nn.Sequential(\n",
    "            nn.BatchNorm1d(1),\n",
    "            nn.Linear(1, 1),\n",
    "            nn.Tanh()\n",
    "        )\n",
    "dataloaders={'train':train_loader}\n",
    "log_args={'no_print':True, 'minPeriod':0, 'timeFrac':.2}\n",
    "opt_constr = lambda params: torch.optim.Adam(params,lr=1e-4) \n",
    "trainer = Regressor(model,dataloaders,log_args=log_args)#,opt_constr=opt_constr)"
   ]
  },
  {
   "cell_type": "code",
   "execution_count": 74,
   "metadata": {},
   "outputs": [
    {
     "data": {
      "application/vnd.jupyter.widget-view+json": {
       "model_id": "827e936501ab4c73bee0162f99b5e376",
       "version_major": 2,
       "version_minor": 0
      },
      "text/plain": [
       "HBox(children=(IntProgress(value=0, description='train', max=10, style=ProgressStyle(description_width='initia…"
      ]
     },
     "metadata": {},
     "output_type": "display_data"
    },
    {
     "name": "stdout",
     "output_type": "stream",
     "text": [
      "\n"
     ]
    }
   ],
   "source": [
    "trainer.train(10);"
   ]
  },
  {
   "cell_type": "code",
   "execution_count": 75,
   "metadata": {},
   "outputs": [
    {
     "data": {
      "text/plain": [
       "<matplotlib.axes._subplots.AxesSubplot at 0x7f3088087128>"
      ]
     },
     "execution_count": 75,
     "metadata": {},
     "output_type": "execute_result"
    },
    {
     "data": {
      "image/png": "[encoded data removed]",
      "text/plain": [
       "<Figure size 432x288 with 1 Axes>"
      ]
     },
     "metadata": {
      "needs_background": "light"
     },
     "output_type": "display_data"
    }
   ],
   "source": [
    "trainer.model.eval()\n",
    "trainer.logger.scalar_frame.plot()"
   ]
  },
  {
   "cell_type": "code",
   "execution_count": 82,
   "metadata": {},
   "outputs": [],
   "source": [
    "x = np.linspace(-600,500,1000)\n",
    "x_t = torch.from_numpy(x.astype(np.float32)).unsqueeze(-1)"
   ]
  },
  {
   "cell_type": "code",
   "execution_count": 83,
   "metadata": {},
   "outputs": [],
   "source": [
    "y_pred = trainer.model(x_t).squeeze(-1).data.numpy()"
   ]
  },
  {
   "cell_type": "code",
   "execution_count": 91,
   "metadata": {},
   "outputs": [
    {
     "data": {
      "text/plain": [
       "tensor([[-0.0019]], grad_fn=<TanhBackward>)"
      ]
     },
     "execution_count": 91,
     "metadata": {},
     "output_type": "execute_result"
    }
   ],
   "source": [
    "trainer.model(torch.zeros(1,1)-50)"
   ]
  },
  {
   "cell_type": "code",
   "execution_count": 84,
   "metadata": {},
   "outputs": [
    {
     "data": {
      "text/plain": [
       "[<matplotlib.lines.Line2D at 0x7f3068778588>]"
      ]
     },
     "execution_count": 84,
     "metadata": {},
     "output_type": "execute_result"
    },
    {
     "data": {
      "image/png": "[encoded data removed]",
      "text/plain": [
       "<Figure size 432x288 with 1 Axes>"
      ]
     },
     "metadata": {
      "needs_background": "light"
     },
     "output_type": "display_data"
    }
   ],
   "source": [
    "plt.plot(x,y_pred)"
   ]
  },
  {
   "cell_type": "code",
   "execution_count": null,
   "metadata": {},
   "outputs": [],
   "source": [
    "X.hist('welo')\n",
    "X.hist('belo')"
   ]
  },
  {
   "cell_type": "code",
   "execution_count": null,
   "metadata": {},
   "outputs": [],
   "source": [
    "sn.distplot(X['belo'])"
   ]
  },
  {
   "cell_type": "code",
   "execution_count": null,
   "metadata": {},
   "outputs": [],
   "source": [
    "X"
   ]
  },
  {
   "cell_type": "code",
   "execution_count": null,
   "metadata": {},
   "outputs": [],
   "source": []
  }
 ],
 "metadata": {
  "kernelspec": {
   "display_name": "Python 3",
   "language": "python",
   "name": "python3"
  },
  "language_info": {
   "codemirror_mode": {
    "name": "ipython",
    "version": 3
   },
   "file_extension": ".py",
   "mimetype": "text/x-python",
   "name": "python",
   "nbconvert_exporter": "python",
   "pygments_lexer": "ipython3",
   "version": "3.6.7"
  }
 },
 "nbformat": 4,
 "nbformat_minor": 2
}
