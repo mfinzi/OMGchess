{
 "cells": [
  {
   "cell_type": "code",
   "execution_count": 1,
   "metadata": {},
   "outputs": [],
   "source": [
    "import chess\n",
    "import chess.uci\n",
    "import chess.pgn\n",
    "import sys,os\n",
    "import numpy as np\n",
    "import torch\n",
    "import io\n",
    "import pandas as pd\n",
    "import concurrent\n",
    "import dill\n",
    "%load_ext autoreload\n",
    "\n",
    "%autoreload 2"
   ]
  },
  {
   "cell_type": "code",
   "execution_count": 2,
   "metadata": {},
   "outputs": [],
   "source": [
    "import torch,dill\n",
    "import matplotlib.pyplot as plt\n",
    "from oil.utils.utils import Eval, cosLr\n",
    "from chess_dataset import ChessDataset"
   ]
  },
  {
   "cell_type": "code",
   "execution_count": 3,
   "metadata": {},
   "outputs": [],
   "source": [
    "from gameTrainer2D import baseGameTrainTrial,makeSimpleTrainer"
   ]
  },
  {
   "cell_type": "code",
   "execution_count": 4,
   "metadata": {},
   "outputs": [],
   "source": [
    "with open(os.path.expanduser('~/games/chess/data/{}_train_0.pkl'.format('chess_3000k_0.2s')), 'rb') as file:\n",
    "    pgns = dill.load(file)"
   ]
  },
  {
   "cell_type": "code",
   "execution_count": 5,
   "metadata": {},
   "outputs": [],
   "source": [
    "D = ChessDataset(os.path.expanduser('~/games/chess/data/{}_train_0.pkl'.format('chess_3000k_0.2s')))"
   ]
  },
  {
   "cell_type": "code",
   "execution_count": null,
   "metadata": {},
   "outputs": [],
   "source": [
    "Trial = baseGameTrainTrial(strict=True)"
   ]
  },
  {
   "cell_type": "code",
   "execution_count": null,
   "metadata": {},
   "outputs": [],
   "source": [
    "in_cfg ={\n",
    "    'num_epochs':30,'dataset':'chess_3000k_0.2s',\n",
    "    'bs': 128,\n",
    "    'trainer_config':{'value_weight':.01,'log_args':{'minPeriod':0.1,'no_print':True}},\n",
    "    'opt_constr':lambda params: torch.optim.Adam(params,lr=1e-3),#lambda params: torch.optim.SGD(params,**{'lr':.03, 'momentum':.9, 'weight_decay':1e-4}),#\n",
    "    'net_config':{'coords':True,'num_blocks':20,'k':128},\n",
    "    'lr_sched':cosLr(30),\n",
    "}"
   ]
  },
  {
   "cell_type": "code",
   "execution_count": null,
   "metadata": {},
   "outputs": [],
   "source": [
    "#cfg,outcome=Trial(in_cfg)\n",
    "T = makeSimpleTrainer(in_cfg)\n",
    "for i in range(10):\n",
    "    T.train(2)\n",
    "    saved_at = T.logger.save_object(T,suffix='checkpoints/c{}.trainer'.format(T.epoch+1))"
   ]
  },
  {
   "cell_type": "code",
   "execution_count": null,
   "metadata": {},
   "outputs": [],
   "source": [
    "saved_at = T.logger.save_object(T,suffix='checkpoints/c{}.trainer'.format(T.epoch+1))"
   ]
  },
  {
   "cell_type": "code",
   "execution_count": null,
   "metadata": {},
   "outputs": [],
   "source": [
    "#T = torch.load(cfg['saved_at'],pickle_module=dill)\n",
    "T.logger.scalar_frame"
   ]
  },
  {
   "cell_type": "code",
   "execution_count": null,
   "metadata": {},
   "outputs": [],
   "source": [
    "plt.style.use('ggplot')\n",
    "plt.rcParams.update({'font.size': 14})\n",
    "f = plt.figure()\n",
    "T.logger.scalar_frame.plot()"
   ]
  },
  {
   "cell_type": "code",
   "execution_count": null,
   "metadata": {},
   "outputs": [],
   "source": [
    "from chess_dataset import ChessDataset\n",
    "import os\n",
    "import torch\n",
    "from torch.utils.data import DataLoader\n",
    "from oil.utils.utils import to_device_layer,LoaderTo,Eval\n",
    "import numpy as np"
   ]
  },
  {
   "cell_type": "code",
   "execution_count": null,
   "metadata": {},
   "outputs": [],
   "source": [
    "D = ChessDataset(os.path.expanduser('~/games/chess/chess_train.pkl'))"
   ]
  },
  {
   "cell_type": "code",
   "execution_count": null,
   "metadata": {},
   "outputs": [],
   "source": [
    "vs = np.array([D[i][2] for i in range(300)])"
   ]
  },
  {
   "cell_type": "code",
   "execution_count": null,
   "metadata": {},
   "outputs": [],
   "source": [
    "plt.hist(vs)"
   ]
  },
  {
   "cell_type": "code",
   "execution_count": null,
   "metadata": {},
   "outputs": [],
   "source": [
    "vs.mean()"
   ]
  },
  {
   "cell_type": "code",
   "execution_count": null,
   "metadata": {},
   "outputs": [],
   "source": [
    "loader = LoaderTo(DataLoader(D,batch_size=5,shuffle=False),torch.device('cuda'))"
   ]
  },
  {
   "cell_type": "code",
   "execution_count": null,
   "metadata": {},
   "outputs": [],
   "source": [
    "with Eval(T.model), torch.no_grad():\n",
    "    values = np.concatenate([T.model(mb[0])[0].cpu().data.numpy() for mb in loader])"
   ]
  },
  {
   "cell_type": "code",
   "execution_count": null,
   "metadata": {},
   "outputs": [],
   "source": [
    "values.mean()"
   ]
  },
  {
   "cell_type": "code",
   "execution_count": null,
   "metadata": {},
   "outputs": [],
   "source": [
    "plt.hist(values)"
   ]
  },
  {
   "cell_type": "code",
   "execution_count": null,
   "metadata": {},
   "outputs": [],
   "source": [
    "vs2 = np.array()"
   ]
  },
  {
   "cell_type": "code",
   "execution_count": null,
   "metadata": {},
   "outputs": [],
   "source": [
    "vs2"
   ]
  },
  {
   "cell_type": "code",
   "execution_count": null,
   "metadata": {},
   "outputs": [],
   "source": [
    "mb[2].type()"
   ]
  },
  {
   "cell_type": "code",
   "execution_count": null,
   "metadata": {},
   "outputs": [],
   "source": []
  }
 ],
 "metadata": {
  "kernelspec": {
   "display_name": "Python 3",
   "language": "python",
   "name": "python3"
  },
  "language_info": {
   "codemirror_mode": {
    "name": "ipython",
    "version": 3
   },
   "file_extension": ".py",
   "mimetype": "text/x-python",
   "name": "python",
   "nbconvert_exporter": "python",
   "pygments_lexer": "ipython3",
   "version": "3.6.7"
  }
 },
 "nbformat": 4,
 "nbformat_minor": 2
}
